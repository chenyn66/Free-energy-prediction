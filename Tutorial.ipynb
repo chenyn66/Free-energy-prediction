{
 "cells": [
  {
   "cell_type": "markdown",
   "metadata": {},
   "source": [
    "# Install Requirements (python 3)"
   ]
  },
  {
   "cell_type": "markdown",
   "metadata": {},
   "source": [
    "pip3 install -r requirement.txt"
   ]
  },
  {
   "cell_type": "markdown",
   "metadata": {},
   "source": [
    "# Initialize Model"
   ]
  },
  {
   "cell_type": "code",
   "execution_count": 1,
   "metadata": {},
   "outputs": [],
   "source": [
    "from node_model import *\n",
    "import numpy as np"
   ]
  },
  {
   "cell_type": "code",
   "execution_count": 2,
   "metadata": {},
   "outputs": [
    {
     "name": "stderr",
     "output_type": "stream",
     "text": [
      "INFO:pystan:COMPILING THE C++ CODE FOR MODEL anon_model_3a0460d6844c38c2a414ece69540d921 NOW.\n"
     ]
    }
   ],
   "source": [
    "model = Node_model(prior=(0,1),noise=(0,1))"
   ]
  },
  {
   "cell_type": "markdown",
   "metadata": {},
   "source": [
    "Node values will have a prior distribution of N(prior[0],prior[1]). Noise values will have an assumption distribution of N(noise[0],noise[1]).\n",
    "\n",
    "Usually it is good enough to leave both settings to (0,1). "
   ]
  },
  {
   "cell_type": "markdown",
   "metadata": {},
   "source": [
    "# Read Graph"
   ]
  },
  {
   "cell_type": "markdown",
   "metadata": {},
   "source": [
    "Graphs are required to have the following format as in *example_graph.txt*:\n",
    "\n",
    "start end observed_value\n",
    "\n",
    "Then simply use *model.read_graph(graph_dir)* to input the graph\n",
    "\n"
   ]
  },
  {
   "cell_type": "code",
   "execution_count": 3,
   "metadata": {},
   "outputs": [],
   "source": [
    "model.read_graph('example_graph.txt')"
   ]
  },
  {
   "cell_type": "markdown",
   "metadata": {},
   "source": [
    "# Optimization"
   ]
  },
  {
   "cell_type": "code",
   "execution_count": 4,
   "metadata": {},
   "outputs": [
    {
     "data": {
      "text/plain": [
       "OrderedDict([('v',\n",
       "              array([-0.85781401, -1.13165061, -0.64344908, -0.2928115 ,  0.30745006,\n",
       "                     -0.71146706, -0.3863362 ,  1.28912426,  0.32361522,  0.84305583,\n",
       "                      0.07027949, -0.56523112,  0.52385088,  0.22470481, -0.49363143,\n",
       "                      0.84228893, -1.34628577,  1.34305531, -2.06039571,  1.45612158,\n",
       "                     -0.66984386,  0.0580456 ,  1.03631945, -0.58235709,  0.32351126,\n",
       "                      1.09900337]))])"
      ]
     },
     "execution_count": 4,
     "metadata": {},
     "output_type": "execute_result"
    }
   ],
   "source": [
    "model.optimize()"
   ]
  },
  {
   "cell_type": "markdown",
   "metadata": {},
   "source": [
    "# Prediction"
   ]
  },
  {
   "cell_type": "markdown",
   "metadata": {},
   "source": [
    "Output prediction is in a dictionary format where each key is a tulpe representing the start and end point of each edge."
   ]
  },
  {
   "cell_type": "code",
   "execution_count": 5,
   "metadata": {},
   "outputs": [
    {
     "data": {
      "text/plain": [
       "{('0', '1'): -0.27383660158660184,\n",
       " ('0', '2'): 0.214364933027403,\n",
       " ('0', '3'): 0.565002510399619,\n",
       " ('0', '4'): 1.165264068778154,\n",
       " ('0', '5'): 0.14634695378203544,\n",
       " ('0', '6'): 0.47147781524229876,\n",
       " ('0', '7'): 2.1469382721729264,\n",
       " ('0', '8'): 1.18142922816159,\n",
       " ('0', '9'): 1.700869839662421,\n",
       " ('0', '10'): 0.928093500078194,\n",
       " ('0', '11'): 0.2925828903681167,\n",
       " ('0', '12'): 1.3816648919818508,\n",
       " ('0', '13'): 1.0825188233015477,\n",
       " ('3', '10'): 0.36309098967857506,\n",
       " ('3', '14'): -0.20081992425470768,\n",
       " ('15', '16'): -2.1885747011285677,\n",
       " ('15', '17'): 0.5007663758191944,\n",
       " ('17', '12'): -0.819204428671403,\n",
       " ('17', '18'): -3.4034510232913098,\n",
       " ('17', '19'): 0.11306627626987864,\n",
       " ('17', '14'): -1.8366867345083424,\n",
       " ('19', '7'): -0.1669973247502059,\n",
       " ('19', '20'): -2.1259654459407464,\n",
       " ('19', '21'): -1.3980759885907024,\n",
       " ('4', '10'): -0.23717056869995973,\n",
       " ('4', '5'): -1.0189171149961185,\n",
       " ('4', '22'): 0.7288693926648401,\n",
       " ('2', '14'): 0.14981765311750833,\n",
       " ('2', '23'): 0.061091985400373194,\n",
       " ('11', '21'): 0.6232767179643134,\n",
       " ('11', '18'): -1.4951645930061728,\n",
       " ('11', '12'): 1.089082001613734,\n",
       " ('21', '7'): 1.2310786638404965,\n",
       " ('21', '20'): -0.7278894573500443,\n",
       " ('18', '1'): 0.9287451010514542,\n",
       " ('18', '12'): 2.584246594619907,\n",
       " ('18', '23'): 1.4780386210658323,\n",
       " ('5', '13'): 0.9361718695195123,\n",
       " ('5', '23'): 0.12910996464574076,\n",
       " ('5', '14'): 0.2178356323628759,\n",
       " ('5', '22'): 1.7477865076609584,\n",
       " ('5', '24'): 1.0349783201319038,\n",
       " ('25', '16'): -2.445289143204861,\n",
       " ('25', '24'): -0.7754921129964137,\n",
       " ('16', '6'): 0.9599495715368072,\n",
       " ('1', '6'): 0.7453144168289005,\n",
       " ('1', '22'): 2.1679700630295957,\n",
       " ('14', '9'): 1.3366872535175096,\n",
       " ('13', '8'): 0.09891040486004221,\n",
       " ('13', '6'): -0.611041008059249,\n",
       " ('13', '10'): -0.15442532322335367,\n",
       " ('8', '23'): -0.9059723097338137,\n",
       " ('9', '6'): -1.2293920244201222,\n",
       " ('12', '24'): -0.20033961806791156,\n",
       " ('20', '22'): 1.706163310460608,\n",
       " ('22', '24'): -0.7128081875290547}"
      ]
     },
     "execution_count": 5,
     "metadata": {},
     "output_type": "execute_result"
    }
   ],
   "source": [
    "model.predict_val()"
   ]
  }
 ],
 "metadata": {
  "kernelspec": {
   "display_name": "Python 3.7.3 64-bit ('base': conda)",
   "language": "python",
   "name": "python37364bitbaseconda37b51bc8dba14f38989957bc704b44e0"
  },
  "language_info": {
   "codemirror_mode": {
    "name": "ipython",
    "version": 3
   },
   "file_extension": ".py",
   "mimetype": "text/x-python",
   "name": "python",
   "nbconvert_exporter": "python",
   "pygments_lexer": "ipython3",
   "version": "3.7.3"
  }
 },
 "nbformat": 4,
 "nbformat_minor": 4
}
